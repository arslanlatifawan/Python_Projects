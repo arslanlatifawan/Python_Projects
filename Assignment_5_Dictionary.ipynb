{
  "nbformat": 4,
  "nbformat_minor": 0,
  "metadata": {
    "colab": {
      "provenance": [],
      "authorship_tag": "ABX9TyMtPaTxhI1CF4y442gJPm87",
      "include_colab_link": true
    },
    "kernelspec": {
      "name": "python3",
      "display_name": "Python 3"
    },
    "language_info": {
      "name": "python"
    }
  },
  "cells": [
    {
      "cell_type": "markdown",
      "metadata": {
        "id": "view-in-github",
        "colab_type": "text"
      },
      "source": [
        "<a href=\"https://colab.research.google.com/github/arslanlatifawan/Python_Projects/blob/main/Assignment_5_Dictionary.ipynb\" target=\"_parent\"><img src=\"https://colab.research.google.com/assets/colab-badge.svg\" alt=\"Open In Colab\"/></a>"
      ]
    },
    {
      "cell_type": "code",
      "execution_count": null,
      "metadata": {
        "colab": {
          "base_uri": "https://localhost:8080/"
        },
        "id": "gm0V8tS9ieW0",
        "outputId": "4db1acb4-daac-4d7d-be5f-0d86ce86867d"
      },
      "outputs": [
        {
          "output_type": "stream",
          "name": "stdout",
          "text": [
            "fruits names with prices:  {'apple': 250, 'banana': 120, 'orange': 150}\n",
            "price of orange is:  150\n"
          ]
        }
      ],
      "source": [
        "# Q1: Create a dictionary with 3 fruits and their prices.\n",
        "#     Print the price of one fruit.\n",
        "\n",
        "dict1 = {\n",
        "    'apple': 250,\n",
        "    'banana': 120,\n",
        "    'orange' : 150\n",
        "}\n",
        "print(\"fruits names with prices: \", dict1)\n",
        "print(\"price of orange is: \", dict1['orange'])\n"
      ]
    },
    {
      "cell_type": "code",
      "source": [
        "# Q2: Make a dictionary of 3 students with their names as keys and marks as values.\n",
        "#     Print all the keys (names).\n",
        "\n",
        "dict2 = {\n",
        "    'Ali': 78,\n",
        "    'Arsal' : 95,\n",
        "    'Abid' : 34\n",
        "}\n",
        "print(\"dictionary data: \", dict2)\n",
        "print(\"Names of students are: \")\n",
        "for key, value in dict2.items():\n",
        "  print(key)\n",
        "\n",
        "#alternate method\n",
        "print(\"Names of students are: \", dict2.keys())\n",
        "print(\"Marks of students are: \", dict2.values())"
      ],
      "metadata": {
        "colab": {
          "base_uri": "https://localhost:8080/"
        },
        "id": "rb5zOZpCkJ7H",
        "outputId": "be9d246f-881d-4530-fc47-52eb15d20aae"
      },
      "execution_count": null,
      "outputs": [
        {
          "output_type": "stream",
          "name": "stdout",
          "text": [
            "dictionary data:  {'Ali': 78, 'Arsal': 95, 'Abid': 34}\n",
            "Names of students are: \n",
            "Ali\n",
            "Arsal\n",
            "Abid\n",
            "Names of students are:  dict_keys(['Ali', 'Arsal', 'Abid'])\n",
            "Marks of students are:  dict_values([78, 95, 34])\n"
          ]
        }
      ]
    },
    {
      "cell_type": "code",
      "source": [
        "# Q3: Create a dictionary of 5 countries and their capitals.\n",
        "#     Ask the user to input a country and print its capital.\n",
        "\n",
        "dict3 = {\n",
        "    \"Pakistan\": \"Islamabad\",\n",
        "    \"India\": \"New Delhi\",\n",
        "    \"China\": \"Beijing\",\n",
        "    \"Japan\": \"Tokyo\",\n",
        "    \"Germany\": \"Berlin\"\n",
        "}\n",
        "name = input(\"Enter a country name: \")\n",
        "for key in dict3:\n",
        "  if key == name:\n",
        "    print(f\"The capital of {key} is: {dict3[name]}\")\n",
        "    break\n",
        "else:\n",
        "    print(\"Country doesn't exist in dictionary\")"
      ],
      "metadata": {
        "colab": {
          "base_uri": "https://localhost:8080/"
        },
        "id": "Nhjvu5jfmx9J",
        "outputId": "82541e72-b53e-45c4-d9a4-abca5a31efb8"
      },
      "execution_count": null,
      "outputs": [
        {
          "output_type": "stream",
          "name": "stdout",
          "text": [
            "Enter a country name: Germany\n",
            "The capital of Germany is: Berlin\n"
          ]
        }
      ]
    },
    {
      "cell_type": "code",
      "source": [
        "# Q4: Create a dictionary with numbers as keys and their squares as values (for numbers 1 to 5).\n",
        "dict4 = {}\n",
        "for i in range(1, 6):\n",
        "  dict4[i] = i**2\n",
        "print(dict4)\n",
        "\n",
        "#alternate\n",
        "print(\"\\nalternate method\")\n",
        "dict4 = {}\n",
        "print(\"initial dictionary: \", dict4)\n",
        "num_list = [1, 2, 3, 4, 5]\n",
        "print(\"numbers are: \", num_list)\n",
        "for x in num_list:\n",
        "  dict4[x] = x**2\n",
        "print(\"final dictionary: \", dict4)\n",
        "\n",
        "#alternate\n",
        "print(\"\\nalternate method\")\n",
        "dict4 = {}\n",
        "print(\"initial dictionary: \", dict4)\n",
        "num_list = [1, 2, 3, 4, 5]\n",
        "print(\"numbers are: \", num_list)\n",
        "for x in num_list:\n",
        "  key = x\n",
        "  value = key**2\n",
        "  dict4.update({key:value})\n",
        "print(\"final dictionary: \", dict4)"
      ],
      "metadata": {
        "colab": {
          "base_uri": "https://localhost:8080/"
        },
        "id": "hQBu_EgQqCbU",
        "outputId": "d26936ef-59d0-4830-c098-e79bdc659001"
      },
      "execution_count": null,
      "outputs": [
        {
          "output_type": "stream",
          "name": "stdout",
          "text": [
            "{1: 1, 2: 4, 3: 9, 4: 16, 5: 25}\n",
            "\n",
            "alternate method\n",
            "initial dictionary:  {}\n",
            "numbers are:  [1, 2, 3, 4, 5]\n",
            "final dictionary:  {1: 1, 2: 4, 3: 9, 4: 16, 5: 25}\n",
            "\n",
            "alternate method\n",
            "initial dictionary:  {}\n",
            "numbers are:  [1, 2, 3, 4, 5]\n",
            "final dictionary:  {1: 1, 2: 4, 3: 9, 4: 16, 5: 25}\n"
          ]
        }
      ]
    },
    {
      "cell_type": "code",
      "source": [
        "# Q5: Create a dictionary of a person with keys: name, age, city.\n",
        "#     Change the city to another one and print the updated dictionary.\n",
        "\n",
        "dict5 = {\"Name\": \"Arsal\", \"Age\": 35, \"City\": \"Lahore\"}\n",
        "print(\"initial dictionary: \", dict5)\n",
        "dict5[\"City\"] = \"Bahawalpur\"\n",
        "print(\"updated dictionary: \", dict5)\n",
        "\n"
      ],
      "metadata": {
        "colab": {
          "base_uri": "https://localhost:8080/"
        },
        "id": "bjJK8pyVwOYV",
        "outputId": "b59bf87b-575d-49e6-8b3b-4c686bf04ed6"
      },
      "execution_count": null,
      "outputs": [
        {
          "output_type": "stream",
          "name": "stdout",
          "text": [
            "initial dictionary:  {'Name': 'Arsal', 'Age': 35, 'City': 'Lahore'}\n",
            "updated dictionary:  {'Name': 'Arsal', 'Age': 35, 'City': 'Bahawalpur'}\n"
          ]
        }
      ]
    },
    {
      "cell_type": "code",
      "source": [
        "# Q6: Create a dictionary of items in a store with their quantities.\n",
        "#     Add a new item to the dictionary and print it.\n",
        "\n",
        "dict6 = {\"sugar\": 75, \"rice\": 98, \"ghee\": 175}\n",
        "print(\"initial list of items:\\n\", dict6)\n",
        "confirm = input(\"Do you want to add an item? (y/n): \")\n",
        "while confirm =='y':\n",
        "  name = input(\"Enter the name of item: \")\n",
        "  qty = int(input(\"Enter the quantity of item: \"))\n",
        "  dict6.update({name : qty})\n",
        "  print(\"updated list of items:\\n\", dict6)\n",
        "  confirm = input(\"Do you want to add an item? (y/n): \")\n",
        "else:\n",
        "  print(\"Final list: \\n\", dict6)\n",
        "  print(\"Existing the program\")"
      ],
      "metadata": {
        "colab": {
          "base_uri": "https://localhost:8080/"
        },
        "id": "cz2v-u9Xw_PF",
        "outputId": "e285a253-a4f6-4fda-de3b-ec00efe7ba2a"
      },
      "execution_count": null,
      "outputs": [
        {
          "output_type": "stream",
          "name": "stdout",
          "text": [
            "initial list of items:\n",
            " {'sugar': 75, 'rice': 98, 'ghee': 175}\n",
            "Do you want to add an item? (y/n): y\n",
            "Enter the name of item: oil\n",
            "Enter the quantity of item: 60\n",
            "updated list of items:\n",
            " {'sugar': 75, 'rice': 98, 'ghee': 175, 'oil': 60}\n",
            "Do you want to add an item? (y/n): n\n",
            "Final list: \n",
            " {'sugar': 75, 'rice': 98, 'ghee': 175, 'oil': 60}\n",
            "Existing the program\n"
          ]
        }
      ]
    },
    {
      "cell_type": "code",
      "source": [
        "# Q7: Create a dictionary of student marks.\n",
        "#     Find and print the student with the highest marks.\n",
        "dict7 = { 'ali': 75, 'usman': 90, 'arsal': 89}\n",
        "print(\"marks of students are: \", dict7)\n",
        "print(\"Student with highest marks is: \")\n",
        "for key, value in dict7.items():\n",
        "  if value == max(dict7.values()):\n",
        "    print(key)\n"
      ],
      "metadata": {
        "colab": {
          "base_uri": "https://localhost:8080/"
        },
        "id": "fnxKSm9HmiJT",
        "outputId": "4e9513e5-91ee-46a7-d5ca-0f6b5ff1cef0"
      },
      "execution_count": null,
      "outputs": [
        {
          "output_type": "stream",
          "name": "stdout",
          "text": [
            "marks of students are:  {'ali': 75, 'usman': 90, 'arsal': 89}\n",
            "Student with highest marks is: \n",
            "usman\n"
          ]
        }
      ]
    },
    {
      "cell_type": "code",
      "source": [
        "# Q8: Make a nested dictionary:\n",
        "#     students = {\n",
        "#         \"Ali\": {\"age\": 20, \"grade\": \"A\"},\n",
        "#         \"Sara\": {\"age\": 22, \"grade\": \"B\"}\n",
        "#      }\n",
        "#     Print only the grades of all students.\n",
        "\n",
        "students = {\n",
        "    \"Ali\": {\"age\": 20, \"grade\": \"A\"},\n",
        "    \"Sara\": {\"age\": 22, \"grade\": \"B\"}\n",
        "}\n",
        "print(\"grades of students are: \")\n",
        "for key, value in students.items():\n",
        "  print(value['grade'], end=\", \")"
      ],
      "metadata": {
        "colab": {
          "base_uri": "https://localhost:8080/"
        },
        "id": "NPfScElS9P7o",
        "outputId": "487923d9-aa11-4ddc-c1e1-e380d64c21da"
      },
      "execution_count": null,
      "outputs": [
        {
          "output_type": "stream",
          "name": "stdout",
          "text": [
            "grades of students are: \n",
            "A, B, "
          ]
        }
      ]
    },
    {
      "cell_type": "code",
      "source": [
        "# Q9: Create a dictionary and remove one key-value pair using pop().\n",
        "#     Print the updated dictionary.\n",
        "\n",
        "dict7 = {\"sugar\": 75, \"rice\": 98, \"ghee\": 175}\n",
        "print(\"initial list of items:\\n\", dict7)\n",
        "dict7.pop(\"sugar\")\n",
        "print(\"updated list of items:\\n\", dict7)\n",
        "\n",
        "\n",
        "#del dict7[\"rice\"]\n",
        "#print(\"updated list of items:\\n\", dict7)"
      ],
      "metadata": {
        "colab": {
          "base_uri": "https://localhost:8080/"
        },
        "id": "lnA7fk-X-FrW",
        "outputId": "cd1b49b3-5a84-4897-d586-bd630312bf7f"
      },
      "execution_count": null,
      "outputs": [
        {
          "output_type": "stream",
          "name": "stdout",
          "text": [
            "initial list of items:\n",
            " {'sugar': 75, 'rice': 98, 'ghee': 175}\n",
            "updated list of items:\n",
            " {'rice': 98, 'ghee': 175}\n"
          ]
        }
      ]
    }
  ]
}