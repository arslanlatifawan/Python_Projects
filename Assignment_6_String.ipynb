{
  "nbformat": 4,
  "nbformat_minor": 0,
  "metadata": {
    "colab": {
      "provenance": [],
      "authorship_tag": "ABX9TyNJFhARws3yWAHfJKwUzH9x",
      "include_colab_link": true
    },
    "kernelspec": {
      "name": "python3",
      "display_name": "Python 3"
    },
    "language_info": {
      "name": "python"
    }
  },
  "cells": [
    {
      "cell_type": "markdown",
      "metadata": {
        "id": "view-in-github",
        "colab_type": "text"
      },
      "source": [
        "<a href=\"https://colab.research.google.com/github/arslanlatifawan/Python_Projects/blob/main/Assignment_6_String.ipynb\" target=\"_parent\"><img src=\"https://colab.research.google.com/assets/colab-badge.svg\" alt=\"Open In Colab\"/></a>"
      ]
    },
    {
      "cell_type": "code",
      "execution_count": null,
      "metadata": {
        "colab": {
          "base_uri": "https://localhost:8080/"
        },
        "id": "Ph0G6wTaBFM2",
        "outputId": "ed25aedf-0b57-4964-e40f-f18909a22068"
      },
      "outputs": [
        {
          "output_type": "stream",
          "name": "stdout",
          "text": [
            "Enter a string: My name is arsal\n",
            "length of string is:  16\n"
          ]
        }
      ],
      "source": [
        "# Q1: Take a string from the user and print its length using len().\n",
        "\n",
        "string1 = input(\"Enter a string: \")\n",
        "print(\"length of string is: \", len(string1))"
      ]
    },
    {
      "cell_type": "code",
      "source": [
        "# Q2: Input a string and print it in both uppercase and lowercase.\n",
        "\n",
        "string2 = input(\"Enter a string: \")\n",
        "print(\"String in uppercase: \", string2.upper())\n",
        "print(\"String in lowercase: \", string2.lower())"
      ],
      "metadata": {
        "colab": {
          "base_uri": "https://localhost:8080/"
        },
        "id": "lhiBYEf7BcmN",
        "outputId": "b6502090-f1c2-4f17-ab5c-db743ca50211"
      },
      "execution_count": null,
      "outputs": [
        {
          "output_type": "stream",
          "name": "stdout",
          "text": [
            "Enter a string: ooohhhh nooooo\n",
            "String in uppercase:  OOOHHHH NOOOOO\n",
            "String in lowercase:  ooohhhh nooooo\n"
          ]
        }
      ]
    },
    {
      "cell_type": "code",
      "source": [
        "# Q3: Ask the user for a string and print the first and last character.\n",
        "\n",
        "string3 = input(\"Ener a string: \")\n",
        "print(\"first character of string is: \", string3[0])\n",
        "print(\"last character of string is: \", string3[-1])\n"
      ],
      "metadata": {
        "colab": {
          "base_uri": "https://localhost:8080/"
        },
        "id": "3e0aDdu1CEIX",
        "outputId": "43128c47-5bc1-43ac-a9de-18e43e582d7e"
      },
      "execution_count": null,
      "outputs": [
        {
          "output_type": "stream",
          "name": "stdout",
          "text": [
            "Ener a string: arsal\n",
            "first character of string is:  a\n",
            "last character of string is:  l\n"
          ]
        }
      ]
    },
    {
      "cell_type": "code",
      "source": [
        "# Q4: Take a string and a letter from the user.\n",
        "#     Count how many times that letter appears in the string.\n",
        "\n",
        "string4 = input(\"Enter a string: \")\n",
        "letter = input(\"Enter a letter: \")\n",
        "count = 0\n",
        "for char in string4:\n",
        "  if letter == char:\n",
        "    count += 1\n",
        "print(f\"Number of times the letter '{letter}' appears in the string is: \", count)"
      ],
      "metadata": {
        "colab": {
          "base_uri": "https://localhost:8080/"
        },
        "id": "0U-FRtr4Ckr0",
        "outputId": "334c281e-af06-45b8-ae65-1943b625b703"
      },
      "execution_count": null,
      "outputs": [
        {
          "output_type": "stream",
          "name": "stdout",
          "text": [
            "Enter a string: my name is arsal\n",
            "Enter a letter: a\n",
            "Number of times the letter 'a' appears in the string is:  3\n"
          ]
        }
      ]
    },
    {
      "cell_type": "code",
      "source": [
        "# Q5: Replace the word \"bad\" with \"good\" in a sentence.\n",
        "\n",
        "sen = \"Python is bad\"\n",
        "print(\"sentence before replacing word: \", sen)\n",
        "sen = sen.replace(\"bad\", \"good\")\n",
        "print(\"sentence after replacing word: \", sen)"
      ],
      "metadata": {
        "colab": {
          "base_uri": "https://localhost:8080/"
        },
        "id": "FLZxsml1EiOC",
        "outputId": "e037fde8-1f7a-49d9-cd98-f1c6e42014c1"
      },
      "execution_count": null,
      "outputs": [
        {
          "output_type": "stream",
          "name": "stdout",
          "text": [
            "sentence before replacing word:  Python is bad\n",
            "sentence after replacing word:  Python is good\n"
          ]
        }
      ]
    },
    {
      "cell_type": "code",
      "source": [
        "# Q6: Take a string from the user and\n",
        "#     print each character on a new line using a loop.\n",
        "\n",
        "string6 = input(\"Enter a string: \")\n",
        "for char in string6:\n",
        "  print(f\"{char}\")"
      ],
      "metadata": {
        "colab": {
          "base_uri": "https://localhost:8080/"
        },
        "id": "dAC77LXrE74v",
        "outputId": "9beae1ce-2025-48e9-bca5-3cda3b39ad3c"
      },
      "execution_count": null,
      "outputs": [
        {
          "output_type": "stream",
          "name": "stdout",
          "text": [
            "Enter a string: arsal\n",
            "a\n",
            "r\n",
            "s\n",
            "a\n",
            "l\n"
          ]
        }
      ]
    },
    {
      "cell_type": "code",
      "source": [
        "# Q7: Check if a string is a palindrome (same forwards and backwards)\n",
        "\n",
        "string7 = input(\"Enter a string (all small letters): \")\n",
        "if string7 == string7[::-1]:\n",
        "  print(\"string is palindrome\")\n",
        "else:\n",
        "  print(\"string is not palindrome\")\n",
        "\n",
        "#alternate method\n",
        "string7 = input(\"Enter a string (all small letters): \")\n",
        "rev_string = \"\"\n",
        "for char in string7:\n",
        "  rev_string = char + rev_string\n",
        "print(\"Given string in reversed is: \", rev_string)\n",
        "\n",
        "if string7 == rev_string:\n",
        "  print(\"string is palindrome\")\n",
        "else:\n",
        "  print(\"string is not palindrome\")"
      ],
      "metadata": {
        "colab": {
          "base_uri": "https://localhost:8080/"
        },
        "id": "N553PbcRFnWe",
        "outputId": "118388bb-bf0d-4525-fb0b-f95a665ac6ef"
      },
      "execution_count": null,
      "outputs": [
        {
          "output_type": "stream",
          "name": "stdout",
          "text": [
            "Enter a string (all small letters): madam\n",
            "string is palindrome\n",
            "Enter a string (all small letters): noon\n",
            "Given string in reversed is:  noon\n",
            "string is palindrome\n"
          ]
        }
      ]
    },
    {
      "cell_type": "code",
      "source": [
        "# Q8: Take a list of words [\"I\", \"love\", \"Python\"]\n",
        "#     and join them into a single string with spaces.\n",
        "\n",
        "list1 = [\"I\", \"Love\", \"Python\"]\n",
        "string8 = \"\"\n",
        "for items in list1:\n",
        "  string8 = string8 + \" \" + items\n",
        "print(string8.lstrip())\n",
        "\n",
        "#alternate method\n",
        "list1 = [\"I\", \"Love\", \"Python\"]\n",
        "string8 = \" \".join(list1)\n",
        "print(string8)\n"
      ],
      "metadata": {
        "colab": {
          "base_uri": "https://localhost:8080/"
        },
        "id": "F4_ax9GvMpwN",
        "outputId": "64b966d8-0e1a-4013-bb63-215142d2f37b"
      },
      "execution_count": null,
      "outputs": [
        {
          "output_type": "stream",
          "name": "stdout",
          "text": [
            "I Love Python\n",
            "I Love Python\n"
          ]
        }
      ]
    }
  ]
}