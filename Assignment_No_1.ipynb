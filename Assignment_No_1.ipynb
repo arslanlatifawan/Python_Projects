{
  "nbformat": 4,
  "nbformat_minor": 0,
  "metadata": {
    "colab": {
      "provenance": [],
      "include_colab_link": true
    },
    "kernelspec": {
      "name": "python3",
      "display_name": "Python 3"
    },
    "language_info": {
      "name": "python"
    }
  },
  "cells": [
    {
      "cell_type": "markdown",
      "metadata": {
        "id": "view-in-github",
        "colab_type": "text"
      },
      "source": [
        "<a href=\"https://colab.research.google.com/github/arslanlatifawan/Python_Projects/blob/main/Assignment_No_1.ipynb\" target=\"_parent\"><img src=\"https://colab.research.google.com/assets/colab-badge.svg\" alt=\"Open In Colab\"/></a>"
      ]
    },
    {
      "cell_type": "code",
      "execution_count": null,
      "metadata": {
        "colab": {
          "base_uri": "https://localhost:8080/"
        },
        "id": "C_ez4zaMxS-n",
        "outputId": "130ebd7c-22d2-4315-96f6-f707fa32649a"
      },
      "outputs": [
        {
          "output_type": "stream",
          "name": "stdout",
          "text": [
            "Enter current year: 2025\n",
            "Enter your birth year: 1989\n",
            "Your age is:  36\n"
          ]
        }
      ],
      "source": [
        "#age calculator\n",
        "current = int(input(\"Enter current year: \"))\n",
        "birth = int(input(\"Enter your birth year: \"))\n",
        "age = current - birth\n",
        "print(\"Your age is: \", age)"
      ]
    },
    {
      "cell_type": "code",
      "source": [
        "#simple interest calculator\n",
        "p = int(input(\"Enter loan amount: \"))\n",
        "r = float(input(\"Enter rate of interest in %age: \"))\n",
        "t = int(input(\"Enter time in years: \"))\n",
        "si = float((p*r*t)/100)\n",
        "print(\"Simple interest is: \", si)"
      ],
      "metadata": {
        "colab": {
          "base_uri": "https://localhost:8080/"
        },
        "id": "s_LkdFfXxa_0",
        "outputId": "b9fa2e8c-e069-4cfc-f9a0-8fb75a053bed"
      },
      "execution_count": null,
      "outputs": [
        {
          "output_type": "stream",
          "name": "stdout",
          "text": [
            "Enter loan amount: 25000\n",
            "Enter rate of interest in %age: 2.5\n",
            "Enter time in years: 7\n",
            "Simple interest is:  4375.0\n"
          ]
        }
      ]
    },
    {
      "cell_type": "code",
      "source": [
        "#area of a rectangle\n",
        "length = float(input(\"Enter length of the rectangle: \"))\n",
        "breadth = float(input(\"Enter breadth of the rectangle: \"))\n",
        "area = round(length*breadth, 3)\n",
        "print(\"Area of the rectangle is: \", area)"
      ],
      "metadata": {
        "colab": {
          "base_uri": "https://localhost:8080/"
        },
        "id": "DGscPCaixe5P",
        "outputId": "38148350-397c-408b-da51-1865544fecf3"
      },
      "execution_count": null,
      "outputs": [
        {
          "output_type": "stream",
          "name": "stdout",
          "text": [
            "Enter length of the rectangle: 3.2\n",
            "Enter breadth of the rectangle: 5.6\n",
            "Area of the rectangle is:  17.92\n"
          ]
        }
      ]
    },
    {
      "cell_type": "code",
      "source": [
        "#to calculate area and circumference of a circle\n",
        "r = float(input(\"Enter radius of the circle: \"))\n",
        "area = round(3.14*r**2, 3)\n",
        "circumference = round(2*3.14*r, 3)\n",
        "print(\"Area of the circle is: \", area)\n",
        "print(\"Circumference of the circle is: \", circumference)"
      ],
      "metadata": {
        "colab": {
          "base_uri": "https://localhost:8080/"
        },
        "id": "r79k34pVxfgq",
        "outputId": "f7c213fa-13cc-4f14-cfb0-28c5872b57b3"
      },
      "execution_count": null,
      "outputs": [
        {
          "output_type": "stream",
          "name": "stdout",
          "text": [
            "Enter radius of the circle: 1.34\n",
            "Area of the circle is:  5.638\n",
            "Circumference of the circle is:  8.415\n"
          ]
        }
      ]
    },
    {
      "cell_type": "code",
      "source": [
        "#convert temperature from celsius to fahrenheit\n",
        "c = float(input(\"Enter temperature in celsius: \"))\n",
        "f = round((c*9/5)+32, 3)\n",
        "print(\"Temperature in fahrenheit is: \", f)"
      ],
      "metadata": {
        "colab": {
          "base_uri": "https://localhost:8080/"
        },
        "id": "AJTEA9fdxiWe",
        "outputId": "1d07ffca-da67-4e14-a18a-c75f6db70d7d"
      },
      "execution_count": null,
      "outputs": [
        {
          "output_type": "stream",
          "name": "stdout",
          "text": [
            "Enter temperature in celsius: 45\n",
            "Temperature in fahrenheit is:  113.0\n"
          ]
        }
      ]
    },
    {
      "cell_type": "code",
      "source": [
        "#average of 3 numbers\n",
        "n1 = float(input(\"Enter first number: \"))\n",
        "n2 = float(input(\"Enter second number: \"))\n",
        "n3 = float(input(\"Enter third number: \"))\n",
        "avg = round((n1+n2+n3)/3, 3)\n",
        "print(f\"The average of {n1}, {n2}, and {n3} is: {avg}\")"
      ],
      "metadata": {
        "colab": {
          "base_uri": "https://localhost:8080/"
        },
        "id": "gQSOhIrAxk8J",
        "outputId": "5113b4ac-ef25-4b91-825e-c174a61aa08f"
      },
      "execution_count": null,
      "outputs": [
        {
          "output_type": "stream",
          "name": "stdout",
          "text": [
            "Enter first number: 33\n",
            "Enter second number: 15\n",
            "Enter third number: 50\n",
            "The average of 33.0, 15.0, and 50.0 is: 32.667\n"
          ]
        }
      ]
    },
    {
      "cell_type": "code",
      "source": [],
      "metadata": {
        "id": "TRTv4hkkW2WS"
      },
      "execution_count": null,
      "outputs": []
    }
  ]
}