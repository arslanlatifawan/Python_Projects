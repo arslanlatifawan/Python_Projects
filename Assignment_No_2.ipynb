{
  "nbformat": 4,
  "nbformat_minor": 0,
  "metadata": {
    "colab": {
      "provenance": [],
      "authorship_tag": "ABX9TyO2J16FUdeIx+IJAhBJE4Zf",
      "include_colab_link": true
    },
    "kernelspec": {
      "name": "python3",
      "display_name": "Python 3"
    },
    "language_info": {
      "name": "python"
    }
  },
  "cells": [
    {
      "cell_type": "markdown",
      "metadata": {
        "id": "view-in-github",
        "colab_type": "text"
      },
      "source": [
        "<a href=\"https://colab.research.google.com/github/arslanlatifawan/Python_Projects/blob/main/Assignment_No_2.ipynb\" target=\"_parent\"><img src=\"https://colab.research.google.com/assets/colab-badge.svg\" alt=\"Open In Colab\"/></a>"
      ]
    },
    {
      "cell_type": "code",
      "source": [
        "#To compare the areas of two rectangles\n",
        "l1 = float(input(\"Enter the length of the first rectangle: \"))\n",
        "w1 = float(input(\"Enter the width of the first rectangle: \"))\n",
        "l2 = float(input(\"Enter the length of the second rectangle: \"))\n",
        "w2 = float(input(\"Enter the width of the second rectangle: \"))\n",
        "a1 = l1*w1\n",
        "a2 = l2*w2\n",
        "print(\"The area of the first rectangle is: \", round(a1, 2))\n",
        "print(\"The area of the second rectangle is: \", round(a2, 2))\n",
        "if (a1 > a2):\n",
        "    print(\"The first rectangle is bigger than second rectangle!\")\n",
        "elif (a1 < a2):\n",
        "    print(\"The second rectangle is bigger than first rectangle!\")\n",
        "else:\n",
        "    print(\"Both rectangles have the same area.\")\n",
        "print(\"End of Program\")"
      ],
      "metadata": {
        "colab": {
          "base_uri": "https://localhost:8080/"
        },
        "id": "2bhNOm0vGwM6",
        "outputId": "7bccd943-977e-4647-b5e4-f9a3c0cb6874"
      },
      "execution_count": null,
      "outputs": [
        {
          "output_type": "stream",
          "name": "stdout",
          "text": [
            "Enter the length of the first rectangle: 3.45\n",
            "Enter the width of the first rectangle: 4.35\n",
            "Enter the length of the second rectangle: 2.39\n",
            "Enter the width of the second rectangle: 5.32\n",
            "The area of the first rectangle is:  15.01\n",
            "The area of the second rectangle is:  12.71\n",
            "The first rectangle is bigger than second rectangle!\n",
            "End of Program\n"
          ]
        }
      ]
    },
    {
      "cell_type": "code",
      "source": [
        "print(\"this will check your number wheter it is positive or negative, and even or odd\")\n",
        "number = int(input(\"Enter the number: \"))\n",
        "if number>0:\n",
        "  if number%2 == 0:\n",
        "    print(\"your number is positive and even\")\n",
        "  else:\n",
        "    print(\"your number is positive and odd\")\n",
        "else:\n",
        "  if number%2 == 0:\n",
        "    print(\"your number is negative and even\")\n",
        "  else:\n",
        "    print(\"your number is negative and odd\")\n",
        "print(\"end of code\")"
      ],
      "metadata": {
        "colab": {
          "base_uri": "https://localhost:8080/"
        },
        "id": "v0U3E7ZCG2T3",
        "outputId": "3752c9b9-8429-47be-cfe8-2f0a85de1998"
      },
      "execution_count": null,
      "outputs": [
        {
          "output_type": "stream",
          "name": "stdout",
          "text": [
            "this will check your number wheter it is positive or negative, and even or odd\n",
            "Enter the number: -99\n",
            "your number is negative and odd\n",
            "end of code\n"
          ]
        }
      ]
    },
    {
      "cell_type": "code",
      "execution_count": null,
      "metadata": {
        "colab": {
          "base_uri": "https://localhost:8080/"
        },
        "id": "YRLF5K2SGVSd",
        "outputId": "b525e9b0-d985-4f93-c966-9787b42314b7"
      },
      "outputs": [
        {
          "output_type": "stream",
          "name": "stdout",
          "text": [
            "Enter your salary: 500000\n",
            "Your income tax is:  100000.0\n",
            "Your salary after 20% tax deduction is:  400000.0\n"
          ]
        }
      ],
      "source": [
        "#take salary as input from user and calculate income tax and salary after tax deduction\n",
        "salary = int(input(\"Enter your salary: \"))\n",
        "if salary>100000:\n",
        "  new_salary = salary - (salary/100)*20\n",
        "  print(\"Your income tax is: \", (salary/100)*20)\n",
        "  print(\"Your salary after 20% tax deduction is: \", new_salary)\n",
        "elif 50001<= salary < 100000:\n",
        "  new_salary = salary - (salary/100)*10\n",
        "  print(\"Your income tax is: \", (salary/100)*10)\n",
        "  print(\"Your salary after 10% tax deduction is: \", new_salary)\n",
        "elif 0 < salary <= 50000:\n",
        "  new_salary = salary - (salary/100)*5\n",
        "  print(\"Your income tax is: \", (salary/100)*5)\n",
        "  print(\"Your salary after 5% tax deduction is: \", new_salary)\n",
        "else:\n",
        "  print(\"salary is zero, or negative, or out of range\")"
      ]
    },
    {
      "cell_type": "code",
      "source": [
        "#takes weight of parcel from user and calculates the shipping cost based on its weight\n",
        "weight = float(input(\"enter the weight of parcel (kg): \"))\n",
        "if weight > 20:\n",
        "  s_cost = weight*15\n",
        "  print(\"The shipping cost of your parcel is: \", round(s_cost, 2))\n",
        "elif 10 <= weight <= 20:\n",
        "  s_cost = weight*10\n",
        "  print(\"The shipping cost of your parcel is: \", round(s_cost, 2))\n",
        "elif weight < 10:\n",
        "  s_cost = weight*5\n",
        "  print(\"The shipping cost of your parcel is: \", round(s_cost, 2))\n",
        "else:\n",
        "  print(\"invalid value\")\n",
        "print(\"end of code\")"
      ],
      "metadata": {
        "colab": {
          "base_uri": "https://localhost:8080/"
        },
        "id": "dkJjtuuFGhmu",
        "outputId": "d8ae1ba2-4bc5-41b9-ee4a-79a64e1138a0"
      },
      "execution_count": null,
      "outputs": [
        {
          "output_type": "stream",
          "name": "stdout",
          "text": [
            "enter the weight of parcel (kg): 5.23\n",
            "The shipping cost of your parcel is:  26.15\n",
            "end of code\n"
          ]
        }
      ]
    },
    {
      "cell_type": "code",
      "source": [
        "#input 3 numbers from user and arrange in ascending order\n",
        "a = float(input(\"Enter first number: \"))\n",
        "b = float(input(\"Enter second number: \"))\n",
        "c = float(input(\"Enter third number: \"))\n",
        "if b > a < c:\n",
        "  if b < c:\n",
        "    print(f\"The correct order is: {a}, {b}, {c}\")\n",
        "  else:\n",
        "    print(f\"The correct order is: {a}, {c}, {b}\")\n",
        "elif a > b < c:\n",
        "  if a < c:\n",
        "    print(f\"The correct order is: {b}, {a}, {c}\")\n",
        "  else:\n",
        "    print(f\"The correct order is: {b}, {c}, {a}\")\n",
        "else:\n",
        "  if a < b:\n",
        "    print(f\"The correct order is: {c}, {a}, {b}\")\n",
        "  else:\n",
        "    print(f\"The correct order is: {c}, {b}, {a}\")\n",
        "print (\"end of code\")"
      ],
      "metadata": {
        "colab": {
          "base_uri": "https://localhost:8080/"
        },
        "id": "-eP34kllGkZ8",
        "outputId": "0bd0e9dc-c951-4ffd-ac2d-28f993a4e2db"
      },
      "execution_count": null,
      "outputs": [
        {
          "output_type": "stream",
          "name": "stdout",
          "text": [
            "Enter first number: 2.01\n",
            "Enter second number: 2.005\n",
            "Enter third number: -3.20\n",
            "The correct order is: -3.2, 2.005, 2.01\n",
            "end of code\n"
          ]
        }
      ]
    },
    {
      "cell_type": "code",
      "source": [],
      "metadata": {
        "id": "OGJfeTNUGm8-"
      },
      "execution_count": null,
      "outputs": []
    }
  ]
}