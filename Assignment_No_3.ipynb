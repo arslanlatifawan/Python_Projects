{
  "nbformat": 4,
  "nbformat_minor": 0,
  "metadata": {
    "colab": {
      "provenance": [],
      "authorship_tag": "ABX9TyNUQzAwlWunTUlkqniGoYRC",
      "include_colab_link": true
    },
    "kernelspec": {
      "name": "python3",
      "display_name": "Python 3"
    },
    "language_info": {
      "name": "python"
    }
  },
  "cells": [
    {
      "cell_type": "markdown",
      "metadata": {
        "id": "view-in-github",
        "colab_type": "text"
      },
      "source": [
        "<a href=\"https://colab.research.google.com/github/arslanlatifawan/Python_Projects/blob/main/Assignment_No_3.ipynb\" target=\"_parent\"><img src=\"https://colab.research.google.com/assets/colab-badge.svg\" alt=\"Open In Colab\"/></a>"
      ]
    },
    {
      "cell_type": "code",
      "execution_count": null,
      "metadata": {
        "colab": {
          "base_uri": "https://localhost:8080/"
        },
        "id": "Bz9tnUjg0iqv",
        "outputId": "ce7bded3-3aa0-44b1-a3ca-c0d6d98a4f1b"
      },
      "outputs": [
        {
          "output_type": "stream",
          "name": "stdout",
          "text": [
            "Enter the number: 76\n",
            "76 x 0 = 0\n",
            "76 x 1 = 76\n",
            "76 x 2 = 152\n",
            "76 x 3 = 228\n",
            "76 x 4 = 304\n",
            "76 x 5 = 380\n",
            "76 x 6 = 456\n",
            "76 x 7 = 532\n",
            "76 x 8 = 608\n",
            "76 x 9 = 684\n",
            "76 x 10 = 760\n",
            "End of code\n"
          ]
        }
      ],
      "source": [
        "#to generate multiplication table for a given integer\n",
        "n = int(input(\"Enter the number: \"))\n",
        "i = 0\n",
        "while (i <= 10):\n",
        "  print(f\"{n} x {i} = {n*i}\")\n",
        "  i += 1\n",
        "print(\"End of code\")\n"
      ]
    },
    {
      "cell_type": "code",
      "source": [
        "#Fibonacchi series for a specified number of terms given by user\n",
        "n = int(input(\"Enter the number of terms: \"))\n",
        "i = 0\n",
        "a = 0\n",
        "b = 1\n",
        "print(f\"Fibanocchi up to {n} terms is: \")\n",
        "while (i<=n):\n",
        "  print(a, end=\", \")\n",
        "  a = b\n",
        "  b = a + b\n",
        "  i += 1\n",
        "print(\"\\nEnd of code\")\n"
      ],
      "metadata": {
        "colab": {
          "base_uri": "https://localhost:8080/"
        },
        "id": "6BYce4H80qFY",
        "outputId": "137bb2da-4e23-4856-a359-fb57d72e3c32"
      },
      "execution_count": null,
      "outputs": [
        {
          "output_type": "stream",
          "name": "stdout",
          "text": [
            "Enter the number of terms: 34\n",
            "Fibanocchi up to 34 terms is: \n",
            "0, 1, 2, 4, 8, 16, 32, 64, 128, 256, 512, 1024, 2048, 4096, 8192, 16384, 32768, 65536, 131072, 262144, 524288, 1048576, 2097152, 4194304, 8388608, 16777216, 33554432, 67108864, 134217728, 268435456, 536870912, 1073741824, 2147483648, 4294967296, 8589934592, \n",
            "End of code\n"
          ]
        }
      ]
    },
    {
      "cell_type": "code",
      "source": [
        "#this program finds out whether the number is prime or not\n",
        "n1 = int(input(\"Enter the number: \"))\n",
        "i = 2\n",
        "if n1<=1:\n",
        "  print(n1, \" is not a prime number\")\n",
        "else:\n",
        "  while i < n1:\n",
        "    if n1 % i == 0:\n",
        "      print (n1, \"is not a prime number\")\n",
        "      break\n",
        "    i += 1\n",
        "  else:\n",
        "    print (n1, \"is a prime number\")"
      ],
      "metadata": {
        "colab": {
          "base_uri": "https://localhost:8080/"
        },
        "id": "qYur7S020s6_",
        "outputId": "5887c93a-05c4-4908-d21c-0313ff4170b0"
      },
      "execution_count": null,
      "outputs": [
        {
          "output_type": "stream",
          "name": "stdout",
          "text": [
            "Enter the number: 8773\n",
            "8773 is not a prime number\n"
          ]
        }
      ]
    },
    {
      "cell_type": "code",
      "source": [
        "#to calculate the power of a given base b raised to an exponent e.\n",
        "b = float(input(\"Enter base: \"))\n",
        "e = float(input(\"Enter exponent: \"))\n",
        "print(f\"the value of {b} raised to the exponent {e} is: {round(b**e, 3)}\")"
      ],
      "metadata": {
        "colab": {
          "base_uri": "https://localhost:8080/"
        },
        "id": "diJ0ZgPH0vr-",
        "outputId": "7437e360-b83c-4c30-cdd7-a54cccd40bac"
      },
      "execution_count": null,
      "outputs": [
        {
          "output_type": "stream",
          "name": "stdout",
          "text": [
            "Enter base: 4\n",
            "Enter exponent: 3.23\n",
            "the value of 4.0 raised to the exponent 3.23 is: 88.035\n"
          ]
        }
      ]
    },
    {
      "cell_type": "code",
      "source": [
        "#program that reverses a given integer n.\n",
        "n = int(input(\"Enter a number: \"))\n",
        "rev = 0\n",
        "\n",
        "while n > 0:\n",
        "    digit = n % 10\n",
        "    rev = rev * 10 + digit\n",
        "    n = n // 10\n",
        "\n",
        "print(\"Reversed number:\", rev)\n"
      ],
      "metadata": {
        "colab": {
          "base_uri": "https://localhost:8080/"
        },
        "id": "dDJayATd0x96",
        "outputId": "e8045516-8717-47e8-94b0-0a856d8d2bdb"
      },
      "execution_count": null,
      "outputs": [
        {
          "output_type": "stream",
          "name": "stdout",
          "text": [
            "Enter a number: 123456789\n",
            "Reversed number: 987654321\n"
          ]
        }
      ]
    },
    {
      "cell_type": "code",
      "source": [
        "#Keep asking the user to guess a secret number until they get it right.\n",
        "num = 9\n",
        "while True:\n",
        "    guess = int(input(\"Guess the secret number: \"))\n",
        "    if guess == num:\n",
        "        print(\"Correct! You guessed it! Clapping!!!!!!\")\n",
        "        break\n",
        "    else:\n",
        "        print(\"Wrong! try again...\")\n"
      ],
      "metadata": {
        "colab": {
          "base_uri": "https://localhost:8080/"
        },
        "id": "npGIhy1x00Mb",
        "outputId": "a20ff75d-5326-4526-ce41-73f40823be16"
      },
      "execution_count": null,
      "outputs": [
        {
          "output_type": "stream",
          "name": "stdout",
          "text": [
            "Guess the secret number: 3\n",
            "Wrong! try again...\n",
            "Guess the secret number: 4\n",
            "Wrong! try again...\n",
            "Guess the secret number: 8\n",
            "Wrong! try again...\n",
            "Guess the secret number: 9\n",
            "Correct! You guessed it! Clapping!!!!!!\n"
          ]
        }
      ]
    }
  ]
}