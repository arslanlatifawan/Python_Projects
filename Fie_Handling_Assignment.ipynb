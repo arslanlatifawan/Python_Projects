{
  "nbformat": 4,
  "nbformat_minor": 0,
  "metadata": {
    "colab": {
      "provenance": [],
      "authorship_tag": "ABX9TyPMmrYA7pq9I253Q0YSNSYq",
      "include_colab_link": true
    },
    "kernelspec": {
      "name": "python3",
      "display_name": "Python 3"
    },
    "language_info": {
      "name": "python"
    }
  },
  "cells": [
    {
      "cell_type": "markdown",
      "metadata": {
        "id": "view-in-github",
        "colab_type": "text"
      },
      "source": [
        "<a href=\"https://colab.research.google.com/github/arslanlatifawan/Python_Projects/blob/main/Fie_Handling_Assignment.ipynb\" target=\"_parent\"><img src=\"https://colab.research.google.com/assets/colab-badge.svg\" alt=\"Open In Colab\"/></a>"
      ]
    },
    {
      "cell_type": "code",
      "execution_count": null,
      "metadata": {
        "colab": {
          "base_uri": "https://localhost:8080/"
        },
        "id": "qrE2HPwzEpbD",
        "outputId": "470c1a62-0281-408c-e2d9-1df2f9576a9a"
      },
      "outputs": [
        {
          "output_type": "stream",
          "name": "stdout",
          "text": [
            "Drive already mounted at /content/drive; to attempt to forcibly remount, call drive.mount(\"/content/drive\", force_remount=True).\n",
            "Enter your name: Arslann\n",
            "Enter your age: 35\n",
            "info has been updated in /content/drive/My Drive/Colab Notebooks/info.txt successfully\n"
          ]
        }
      ],
      "source": [
        "'''Q1: Write to a File\n",
        "Create a Dart program that takes user input for their name and\n",
        "age and writes it into a file called info.txt.'''\n",
        "\n",
        "from google.colab import drive\n",
        "drive.mount('/content/drive')\n",
        "\n",
        "file_path = \"/content/drive/My Drive/Colab Notebooks/info.txt\"\n",
        "\n",
        "name = input(\"Enter your name: \")\n",
        "age = input(\"Enter your age: \")\n",
        "\n",
        "with open(file_path, \"w\") as file:\n",
        "  file.write(f\"Name: {name}\\nAge: {age}\")\n",
        "print(f\"info has been updated in {file_path} successfully\")"
      ]
    },
    {
      "cell_type": "code",
      "source": [
        "'''Q2: Read from a File info.txt. Write a Dart program that reads the content\n",
        "of info.txt (created in Q1) and displays it on the console.'''\n",
        "from google.colab import drive\n",
        "drive.mount('/content/drive')\n",
        "\n",
        "file_path = \"/content/drive/My Drive/Colab Notebooks/info.txt\"\n",
        "\n",
        "with open(file_path, \"r\") as file:\n",
        "  content = file.read()\n",
        "  print(content)"
      ],
      "metadata": {
        "colab": {
          "base_uri": "https://localhost:8080/"
        },
        "id": "lcBM55gGOgzS",
        "outputId": "57f942a4-df15-4f3d-b97f-4f189d769e56"
      },
      "execution_count": null,
      "outputs": [
        {
          "output_type": "stream",
          "name": "stdout",
          "text": [
            "Mounted at /content/drive\n",
            "Name: Arslann\n",
            "Age: 35\n"
          ]
        }
      ]
    },
    {
      "cell_type": "code",
      "source": [
        "'''Q3: Append to a File. Create a Dart program that appends a new line &quot;\n",
        "This file was updated successfully!&quot; at the end of info.txt without\n",
        "deleting the previous content.'''\n",
        "from google.colab import drive\n",
        "drive.mount('/content/drive')\n",
        "file_path = \"/content/drive/My Drive/Colab Notebooks/info.txt\"\n",
        "with open(file_path, \"a\") as file:\n",
        "  file.write(\"\\nThis file was updated successfully!\")\n",
        "print(f\"info has been updated in {file_path} successfully\")"
      ],
      "metadata": {
        "colab": {
          "base_uri": "https://localhost:8080/"
        },
        "id": "_DUC1FC_PCio",
        "outputId": "7ea4130c-26c9-4a5e-eb36-90c4cc54006f"
      },
      "execution_count": null,
      "outputs": [
        {
          "output_type": "stream",
          "name": "stdout",
          "text": [
            "Drive already mounted at /content/drive; to attempt to forcibly remount, call drive.mount(\"/content/drive\", force_remount=True).\n",
            "info has been updated in /content/drive/My Drive/Colab Notebooks/info.txt successfully\n"
          ]
        }
      ]
    },
    {
      "cell_type": "code",
      "source": [
        "'''Q4: Read, Write &amp; Append Together\n",
        "Write a Dart program that:\n",
        "1. Writes &quot;Welcome to Dart File Handling&quot; to a file named data.txt.\n",
        "2. Reads and prints the content of the file.\n",
        "3. Appends &quot; - End of File&quot; at the end of the file.\n",
        "4. Reads again and shows the updated content.'''\n",
        "\n",
        "from google.colab import drive\n",
        "\n",
        "file_path = \"/content/drive/My Drive/Colab Notebooks/data.txt\"\n",
        "\n",
        "with open(file_path, \"w\") as file:\n",
        "  file.write(\"Welcome to Dart File Handling\")\n",
        "\n",
        "with open(file_path, \"r\") as file:\n",
        "  content = file.read()\n",
        "  print(content)"
      ],
      "metadata": {
        "colab": {
          "base_uri": "https://localhost:8080/"
        },
        "id": "_J-xVHRePrLN",
        "outputId": "7fa9136d-bcf8-4cd3-b461-24747314c6a0"
      },
      "execution_count": null,
      "outputs": [
        {
          "output_type": "stream",
          "name": "stdout",
          "text": [
            "Welcome to Dart File Handling\n"
          ]
        }
      ]
    },
    {
      "cell_type": "code",
      "source": [
        "'''Q5: Copy File Content\n",
        "Write a Dart program that reads all the content from info.txt\n",
        "and writes it into a new file named copy_info.txt.'''\n",
        "\n",
        "from google.colab import drive\n",
        "file_path_1 = \"/content/drive/My Drive/Colab Notebooks/info.txt\"\n",
        "file_path_2 = \"/content/drive/My Drive/Colab Notebooks/copy_info.txt\"\n",
        "\n",
        "with open(file_path_1, \"r\") as file:\n",
        "  content = file.read()\n",
        "\n",
        "with open(file_path_2, \"w\") as file:\n",
        "  file.write(content)\n",
        "\n",
        "print(f\"Content from {file_path_1} has been copied to {file_path_2}\")\n"
      ],
      "metadata": {
        "colab": {
          "base_uri": "https://localhost:8080/"
        },
        "id": "pHb66fKZQQhr",
        "outputId": "7e9401c1-feca-4869-a62d-34fe79f72215"
      },
      "execution_count": null,
      "outputs": [
        {
          "output_type": "stream",
          "name": "stdout",
          "text": [
            "Content from /content/drive/My Drive/Colab Notebooks/info.txt has been copied to /content/drive/My Drive/Colab Notebooks/copy_info.txt\n"
          ]
        }
      ]
    },
    {
      "cell_type": "code",
      "source": [
        "'''Q6: Count Words in a File\n",
        "Create a Dart program that reads a file data.txt and\n",
        "counts how many words and lines it has, then prints the result.'''\n",
        "\n",
        "from google.colab import drive\n",
        "file_path_3 = \"/content/drive/My Drive/Colab Notebooks/data.txt\"\n",
        "with open(file_path_3, \"r\") as file:\n",
        "  content = file.read()\n",
        "\n",
        "words = content.split()\n",
        "lines = content.split(\"\\n\")\n",
        "\n",
        "print(f\"Number of words: {len(words)}\")\n",
        "print(f\"Number of lines: {len(lines)}\")"
      ],
      "metadata": {
        "colab": {
          "base_uri": "https://localhost:8080/"
        },
        "id": "spegnsaZRVvc",
        "outputId": "1e0b20ad-31c1-4159-ff3b-c6e20fa1aa97"
      },
      "execution_count": null,
      "outputs": [
        {
          "output_type": "stream",
          "name": "stdout",
          "text": [
            "Number of words: 9\n",
            "Number of lines: 3\n"
          ]
        }
      ]
    },
    {
      "cell_type": "code",
      "source": [
        "'''Q7: Merge Two Files\n",
        "Write a Dart program that takes two files file1.txt and\n",
        "file2.txt and merges their contents into a third file called merged.txt.'''\n",
        "\n",
        "from google.colab import drive\n",
        "\n",
        "file_path_4 = \"/content/drive/My Drive/Colab Notebooks/file_1.txt\"\n",
        "file_path_5 = \"/content/drive/My Drive/Colab Notebooks/file_2.txt\"\n",
        "file_path_6 = \"/content/drive/My Drive/Colab Notebooks/merged.txt\"\n",
        "\n",
        "with open(file_path_4, \"w\") as file1:\n",
        "  file1.write(\"Hello world!\\nThis is my First Message!\\n\")\n",
        "\n",
        "with open(file_path_5, \"w\") as file2:\n",
        "  file2.write(\"And this is my Second Message\")\n",
        "\n",
        "with open(file_path_6, \"w\") as file6:\n",
        "  with open(file_path_4, \"r\") as file1:\n",
        "    file6.write(file1.read())\n",
        "  with open(file_path_5, \"r\") as file2:\n",
        "    file6.write(file2.read())\n",
        "\n",
        "print(f\"Content from {file_path_4} and {file_path_5} has been merged into {file_path_6}\")"
      ],
      "metadata": {
        "colab": {
          "base_uri": "https://localhost:8080/"
        },
        "id": "QbLfP1zSR7pa",
        "outputId": "0afa73e6-fe01-4283-eae4-a8da5ead53c1"
      },
      "execution_count": null,
      "outputs": [
        {
          "output_type": "stream",
          "name": "stdout",
          "text": [
            "Content from /content/drive/My Drive/Colab Notebooks/file_1.txt and /content/drive/My Drive/Colab Notebooks/file_2.txt has been merged into /content/drive/My Drive/Colab Notebooks/merged.txt\n"
          ]
        }
      ]
    }
  ]
}